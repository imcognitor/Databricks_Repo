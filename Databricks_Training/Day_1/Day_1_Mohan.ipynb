{
 "cells": [
  {
   "cell_type": "code",
   "execution_count": 0,
   "metadata": {
    "application/vnd.databricks.v1+cell": {
     "cellMetadata": {},
     "inputWidgets": {},
     "nuid": "0afd51a7-ce81-4a02-9e53-5887941927b0",
     "showTitle": false,
     "tableResultSettingsMap": {},
     "title": ""
    },
    "id": "W9Ztsh3XC_gJ"
   },
   "outputs": [],
   "source": []
  },
  {
   "cell_type": "markdown",
   "metadata": {
    "application/vnd.databricks.v1+cell": {
     "cellMetadata": {},
     "inputWidgets": {},
     "nuid": "e62865e7-4491-4f9b-976b-55911b9342be",
     "showTitle": false,
     "tableResultSettingsMap": {},
     "title": ""
    },
    "id": "oAkAF5fvDGS-"
   },
   "source": [
    "#Getting started with Python"
   ]
  },
  {
   "cell_type": "markdown",
   "metadata": {
    "application/vnd.databricks.v1+cell": {
     "cellMetadata": {},
     "inputWidgets": {},
     "nuid": "44bf9900-4a32-4e82-a6fe-5158829cf717",
     "showTitle": false,
     "tableResultSettingsMap": {},
     "title": ""
    },
    "id": "rf4bQM3aDiFL"
   },
   "source": [
    "##Fundamental Data Types (Immutable - Can't be changed)\n",
    "\n",
    "1. Int\n",
    "2. Float\n",
    "3. String\n",
    "4. Bool\n",
    "5. Complex\n"
   ]
  },
  {
   "cell_type": "code",
   "execution_count": 0,
   "metadata": {
    "application/vnd.databricks.v1+cell": {
     "cellMetadata": {},
     "inputWidgets": {},
     "nuid": "6c3ce0d0-9b06-45cc-a07f-cdbf37aea8a1",
     "showTitle": false,
     "tableResultSettingsMap": {},
     "title": ""
    },
    "colab": {
     "base_uri": "https://localhost:8080/"
    },
    "executionInfo": {
     "elapsed": 11,
     "status": "ok",
     "timestamp": 1750669935070,
     "user": {
      "displayName": "Mohan krishna Nagamangalam",
      "userId": "00660016846501681621"
     },
     "user_tz": -330
    },
    "id": "UyPje-YjDNWG",
    "outputId": "3508f295-f60d-4f35-ff62-9293012c346a"
   },
   "outputs": [],
   "source": [
    "a=10\n",
    "print(a)\n",
    "print(type(a))"
   ]
  },
  {
   "cell_type": "code",
   "execution_count": 0,
   "metadata": {
    "application/vnd.databricks.v1+cell": {
     "cellMetadata": {},
     "inputWidgets": {},
     "nuid": "a025ef3e-6c61-459d-9183-5ee4caa95739",
     "showTitle": false,
     "tableResultSettingsMap": {},
     "title": ""
    },
    "colab": {
     "base_uri": "https://localhost:8080/"
    },
    "executionInfo": {
     "elapsed": 13,
     "status": "ok",
     "timestamp": 1750670044546,
     "user": {
      "displayName": "Mohan krishna Nagamangalam",
      "userId": "00660016846501681621"
     },
     "user_tz": -330
    },
    "id": "_rwWgsJXDu7D",
    "outputId": "2e8895ca-1cf1-4795-8240-503c322c6336"
   },
   "outputs": [],
   "source": [
    "b=20.1\n",
    "print(b)\n",
    "print(type(b))"
   ]
  },
  {
   "cell_type": "code",
   "execution_count": 0,
   "metadata": {
    "application/vnd.databricks.v1+cell": {
     "cellMetadata": {},
     "inputWidgets": {},
     "nuid": "545244de-000b-4abc-899d-6e48c1f47b1e",
     "showTitle": false,
     "tableResultSettingsMap": {},
     "title": ""
    },
    "colab": {
     "base_uri": "https://localhost:8080/"
    },
    "executionInfo": {
     "elapsed": 23,
     "status": "ok",
     "timestamp": 1750670097598,
     "user": {
      "displayName": "Mohan krishna Nagamangalam",
      "userId": "00660016846501681621"
     },
     "user_tz": -330
    },
    "id": "qF1o4UcdEPus",
    "outputId": "acc014f3-77a7-42af-a040-2d3a45275ac0"
   },
   "outputs": [],
   "source": [
    "c='Python'\n",
    "print(c)\n",
    "print(type(c))\n"
   ]
  },
  {
   "cell_type": "code",
   "execution_count": 0,
   "metadata": {
    "application/vnd.databricks.v1+cell": {
     "cellMetadata": {},
     "inputWidgets": {},
     "nuid": "46cedb65-0a40-46fe-ac5a-714bdbdffb30",
     "showTitle": false,
     "tableResultSettingsMap": {},
     "title": ""
    },
    "colab": {
     "base_uri": "https://localhost:8080/"
    },
    "executionInfo": {
     "elapsed": 35,
     "status": "ok",
     "timestamp": 1750670124713,
     "user": {
      "displayName": "Mohan krishna Nagamangalam",
      "userId": "00660016846501681621"
     },
     "user_tz": -330
    },
    "id": "HB4DuZ8OEc_Z",
    "outputId": "b8566fb6-8334-417f-ff18-b3ba72c5d331"
   },
   "outputs": [],
   "source": [
    "d=\"Python\"\n",
    "print(d)\n",
    "print(type(d))"
   ]
  },
  {
   "cell_type": "code",
   "execution_count": 0,
   "metadata": {
    "application/vnd.databricks.v1+cell": {
     "cellMetadata": {},
     "inputWidgets": {},
     "nuid": "008a7433-9ca7-4bdb-b08d-d50b36d9036c",
     "showTitle": false,
     "tableResultSettingsMap": {},
     "title": ""
    },
    "colab": {
     "base_uri": "https://localhost:8080/"
    },
    "executionInfo": {
     "elapsed": 24,
     "status": "ok",
     "timestamp": 1750670167000,
     "user": {
      "displayName": "Mohan krishna Nagamangalam",
      "userId": "00660016846501681621"
     },
     "user_tz": -330
    },
    "id": "bQIHrsbpEjFe",
    "outputId": "9b152ec6-8521-4dc0-f650-d8c29072c699"
   },
   "outputs": [],
   "source": [
    "e=\"\"\"\"Python is\n",
    "very easy to learn\"\"\"\n",
    "print(e)\n",
    "print(type(e))"
   ]
  },
  {
   "cell_type": "code",
   "execution_count": 0,
   "metadata": {
    "application/vnd.databricks.v1+cell": {
     "cellMetadata": {},
     "inputWidgets": {},
     "nuid": "c1be3e55-bba0-49d1-bf3e-d3d706a26c98",
     "showTitle": false,
     "tableResultSettingsMap": {},
     "title": ""
    },
    "colab": {
     "base_uri": "https://localhost:8080/"
    },
    "executionInfo": {
     "elapsed": 31,
     "status": "ok",
     "timestamp": 1750670201326,
     "user": {
      "displayName": "Mohan krishna Nagamangalam",
      "userId": "00660016846501681621"
     },
     "user_tz": -330
    },
    "id": "Wy2us2rFEv6U",
    "outputId": "c45dfda3-d751-4577-c1ed-73c75fb4db9c"
   },
   "outputs": [],
   "source": [
    "f=True\n",
    "print(f)\n",
    "print(type(f))"
   ]
  },
  {
   "cell_type": "code",
   "execution_count": 0,
   "metadata": {
    "application/vnd.databricks.v1+cell": {
     "cellMetadata": {},
     "inputWidgets": {},
     "nuid": "65df8045-3ee3-43cb-a3d1-abffbf3838c5",
     "showTitle": false,
     "tableResultSettingsMap": {},
     "title": ""
    },
    "colab": {
     "base_uri": "https://localhost:8080/",
     "height": 176
    },
    "executionInfo": {
     "elapsed": 30,
     "status": "error",
     "timestamp": 1750670330411,
     "user": {
      "displayName": "Mohan krishna Nagamangalam",
      "userId": "00660016846501681621"
     },
     "user_tz": -330
    },
    "id": "wIqESA_rFLzv",
    "outputId": "a92c2932-377b-40da-8856-2298ec064bc9"
   },
   "outputs": [],
   "source": [
    "g=Ten\n",
    "print(g)\n",
    "print(type(g))"
   ]
  },
  {
   "cell_type": "code",
   "execution_count": 0,
   "metadata": {
    "application/vnd.databricks.v1+cell": {
     "cellMetadata": {},
     "inputWidgets": {},
     "nuid": "f08004ce-bf46-4acf-9511-aa96778aa9da",
     "showTitle": false,
     "tableResultSettingsMap": {},
     "title": ""
    },
    "colab": {
     "base_uri": "https://localhost:8080/",
     "height": 176
    },
    "executionInfo": {
     "elapsed": 82,
     "status": "error",
     "timestamp": 1750670405817,
     "user": {
      "displayName": "Mohan krishna Nagamangalam",
      "userId": "00660016846501681621"
     },
     "user_tz": -330
    },
    "id": "Ch1fRMbmFP5S",
    "outputId": "a77a5471-e509-4dca-a36e-905c64e32fd1"
   },
   "outputs": [],
   "source": [
    "h=false\n",
    "print(h)\n",
    "print(type(h))"
   ]
  },
  {
   "cell_type": "markdown",
   "metadata": {
    "application/vnd.databricks.v1+cell": {
     "cellMetadata": {},
     "inputWidgets": {},
     "nuid": "9a9f3d59-2e0c-4c73-8480-64b85ed8793d",
     "showTitle": false,
     "tableResultSettingsMap": {},
     "title": ""
    },
    "id": "oQIr711-GoL1"
   },
   "source": [
    "#Everything in python is created as an object.\n"
   ]
  },
  {
   "cell_type": "code",
   "execution_count": 0,
   "metadata": {
    "application/vnd.databricks.v1+cell": {
     "cellMetadata": {},
     "inputWidgets": {},
     "nuid": "67d9aa89-6756-4f04-9b72-fb6748cfe299",
     "showTitle": false,
     "tableResultSettingsMap": {},
     "title": ""
    },
    "colab": {
     "base_uri": "https://localhost:8080/"
    },
    "executionInfo": {
     "elapsed": 16,
     "status": "ok",
     "timestamp": 1750672090411,
     "user": {
      "displayName": "Mohan krishna Nagamangalam",
      "userId": "00660016846501681621"
     },
     "user_tz": -330
    },
    "id": "aR_x7VigGtoJ",
    "outputId": "c4cdfaf1-fa2d-4519-e175-3525aa469e8a"
   },
   "outputs": [],
   "source": [
    "a=10\n",
    "print(id(a))\n",
    "a=20\n",
    "print(id(a))\n",
    "a=10\n",
    "print(id(a))\n",
    "b=20\n",
    "print(id(b))\n",
    "b=10\n",
    "print(id(b))\n",
    "a=True\n",
    "print(id(a))\n",
    "print(a)"
   ]
  },
  {
   "cell_type": "code",
   "execution_count": 0,
   "metadata": {
    "application/vnd.databricks.v1+cell": {
     "cellMetadata": {},
     "inputWidgets": {},
     "nuid": "5d472f98-320d-4f15-ab93-2079fd91a779",
     "showTitle": false,
     "tableResultSettingsMap": {},
     "title": ""
    },
    "id": "sv9F3lQ5MCNS"
   },
   "outputs": [],
   "source": []
  },
  {
   "cell_type": "code",
   "execution_count": 0,
   "metadata": {
    "application/vnd.databricks.v1+cell": {
     "cellMetadata": {},
     "inputWidgets": {},
     "nuid": "ad7ca357-c1e9-42ca-866c-e6733e256515",
     "showTitle": false,
     "tableResultSettingsMap": {},
     "title": ""
    },
    "id": "dI-jVtslJsk2"
   },
   "outputs": [],
   "source": []
  }
 ],
 "metadata": {
  "application/vnd.databricks.v1+notebook": {
   "computePreferences": null,
   "dashboards": [],
   "environmentMetadata": null,
   "inputWidgetPreferences": null,
   "language": "python",
   "notebookMetadata": {},
   "notebookName": "Day_1_Mohan",
   "widgets": {}
  },
  "colab": {
   "authorship_tag": "ABX9TyMdMK1YrmjV2+suzgs00EK5",
   "provenance": []
  },
  "kernelspec": {
   "display_name": "Python 3",
   "name": "python3"
  },
  "language_info": {
   "name": "python"
  }
 },
 "nbformat": 4,
 "nbformat_minor": 0
}
