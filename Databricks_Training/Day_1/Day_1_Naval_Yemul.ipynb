{
 "cells": [
  {
   "cell_type": "markdown",
   "metadata": {
    "application/vnd.databricks.v1+cell": {
     "cellMetadata": {},
     "inputWidgets": {},
     "nuid": "2fb1971f-674f-4b0c-bae4-b55b985448a2",
     "showTitle": false,
     "tableResultSettingsMap": {},
     "title": ""
    },
    "id": "BCoXzOH5CnM1"
   },
   "source": [
    "## Getting started with Python"
   ]
  },
  {
   "cell_type": "markdown",
   "metadata": {
    "application/vnd.databricks.v1+cell": {
     "cellMetadata": {},
     "inputWidgets": {},
     "nuid": "db46e9ee-da9f-4d2d-92ed-d2fac7d4f7e0",
     "showTitle": false,
     "tableResultSettingsMap": {},
     "title": ""
    },
    "id": "DVIkyZoNCumk"
   },
   "source": [
    "Fundamental Data Types : Immutable(can not change)\n",
    "1.   Int\n",
    "2.   Float\n",
    "3. String\n",
    "4. Bool\n",
    "5. Complex\n",
    "\n"
   ]
  },
  {
   "cell_type": "code",
   "execution_count": 0,
   "metadata": {
    "application/vnd.databricks.v1+cell": {
     "cellMetadata": {},
     "inputWidgets": {},
     "nuid": "ce82c0a4-ebdf-46d6-826d-d0142c5e120d",
     "showTitle": false,
     "tableResultSettingsMap": {},
     "title": ""
    },
    "colab": {
     "base_uri": "https://localhost:8080/"
    },
    "executionInfo": {
     "elapsed": 16,
     "status": "ok",
     "timestamp": 1750669821361,
     "user": {
      "displayName": "Naval Yemul",
      "userId": "08543598437878870420"
     },
     "user_tz": -330
    },
    "id": "YERXP24UB5h1",
    "outputId": "af9c45b0-518e-4ad9-97f6-f4683bc44aa3"
   },
   "outputs": [],
   "source": [
    "a=10\n",
    "print(a)\n",
    "print(type(a))"
   ]
  },
  {
   "cell_type": "code",
   "execution_count": 0,
   "metadata": {
    "application/vnd.databricks.v1+cell": {
     "cellMetadata": {},
     "inputWidgets": {},
     "nuid": "f4cfa2ce-a7e3-451e-9b2e-e4f0183394bd",
     "showTitle": false,
     "tableResultSettingsMap": {},
     "title": ""
    },
    "colab": {
     "base_uri": "https://localhost:8080/"
    },
    "executionInfo": {
     "elapsed": 47,
     "status": "ok",
     "timestamp": 1750670029999,
     "user": {
      "displayName": "Naval Yemul",
      "userId": "08543598437878870420"
     },
     "user_tz": -330
    },
    "id": "1S5D_6q7CmUs",
    "outputId": "884c6a00-c1bf-461e-dd66-2a84c3af2947"
   },
   "outputs": [],
   "source": [
    "b=20.1\n",
    "print(b)\n",
    "print(type(b))"
   ]
  },
  {
   "cell_type": "code",
   "execution_count": 0,
   "metadata": {
    "application/vnd.databricks.v1+cell": {
     "cellMetadata": {},
     "inputWidgets": {},
     "nuid": "f7919948-9d9b-412d-90e8-6d6deffef119",
     "showTitle": false,
     "tableResultSettingsMap": {},
     "title": ""
    },
    "colab": {
     "base_uri": "https://localhost:8080/"
    },
    "executionInfo": {
     "elapsed": 10,
     "status": "ok",
     "timestamp": 1750670049129,
     "user": {
      "displayName": "Naval Yemul",
      "userId": "08543598437878870420"
     },
     "user_tz": -330
    },
    "id": "zrn9BWHBEMOv",
    "outputId": "6efd6ac1-4618-46fe-9471-1cb95c5bab9a"
   },
   "outputs": [],
   "source": [
    "c=\"Python\"\n",
    "print(c)\n",
    "print(type(c))"
   ]
  },
  {
   "cell_type": "code",
   "execution_count": 0,
   "metadata": {
    "application/vnd.databricks.v1+cell": {
     "cellMetadata": {},
     "inputWidgets": {},
     "nuid": "2398398c-e867-4e8a-81cd-7ef2814584d1",
     "showTitle": false,
     "tableResultSettingsMap": {},
     "title": ""
    },
    "colab": {
     "base_uri": "https://localhost:8080/"
    },
    "executionInfo": {
     "elapsed": 43,
     "status": "ok",
     "timestamp": 1750670090952,
     "user": {
      "displayName": "Naval Yemul",
      "userId": "08543598437878870420"
     },
     "user_tz": -330
    },
    "id": "onsh9HOHEP44",
    "outputId": "5186d4c4-837c-412a-c444-600de3c807db"
   },
   "outputs": [],
   "source": [
    "c=\"\"\"Python\n",
    "is easy to learn\"\"\"\n",
    "print(c)\n",
    "print(type(c))"
   ]
  },
  {
   "cell_type": "code",
   "execution_count": 0,
   "metadata": {
    "application/vnd.databricks.v1+cell": {
     "cellMetadata": {},
     "inputWidgets": {},
     "nuid": "c49747eb-94f4-45cd-94c6-58e0de4a0fc6",
     "showTitle": false,
     "tableResultSettingsMap": {},
     "title": ""
    },
    "colab": {
     "base_uri": "https://localhost:8080/"
    },
    "executionInfo": {
     "elapsed": 17,
     "status": "ok",
     "timestamp": 1750670190991,
     "user": {
      "displayName": "Naval Yemul",
      "userId": "08543598437878870420"
     },
     "user_tz": -330
    },
    "id": "8FTPFCP3EoG2",
    "outputId": "08c205ca-83f4-41aa-f9e2-a01b4d8b156b"
   },
   "outputs": [],
   "source": [
    "d=True\n",
    "print(type(d))"
   ]
  },
  {
   "cell_type": "code",
   "execution_count": 0,
   "metadata": {
    "application/vnd.databricks.v1+cell": {
     "cellMetadata": {},
     "inputWidgets": {},
     "nuid": "20733ed5-09d5-46eb-a6ee-867fe80fd22f",
     "showTitle": false,
     "tableResultSettingsMap": {},
     "title": ""
    },
    "colab": {
     "base_uri": "https://localhost:8080/"
    },
    "executionInfo": {
     "elapsed": 7,
     "status": "ok",
     "timestamp": 1750670281067,
     "user": {
      "displayName": "Naval Yemul",
      "userId": "08543598437878870420"
     },
     "user_tz": -330
    },
    "id": "TtI7kA1DEyha",
    "outputId": "b7e1aab1-805a-415f-e46b-acdca58029e0"
   },
   "outputs": [],
   "source": [
    "d=False\n",
    "print(type(d))"
   ]
  },
  {
   "cell_type": "code",
   "execution_count": 0,
   "metadata": {
    "application/vnd.databricks.v1+cell": {
     "cellMetadata": {},
     "inputWidgets": {},
     "nuid": "d7019641-43d6-490e-b33f-817efacea11b",
     "showTitle": false,
     "tableResultSettingsMap": {},
     "title": ""
    },
    "colab": {
     "base_uri": "https://localhost:8080/"
    },
    "executionInfo": {
     "elapsed": 10,
     "status": "ok",
     "timestamp": 1750671459106,
     "user": {
      "displayName": "Naval Yemul",
      "userId": "08543598437878870420"
     },
     "user_tz": -330
    },
    "id": "_AB7GAAHFIgq",
    "outputId": "58a909a4-dcb2-445e-ca23-1d0682c37a20"
   },
   "outputs": [],
   "source": [
    "a=10\n",
    "print(a)\n",
    "print(type(a))\n",
    "print(id(a))"
   ]
  },
  {
   "cell_type": "code",
   "execution_count": 0,
   "metadata": {
    "application/vnd.databricks.v1+cell": {
     "cellMetadata": {},
     "inputWidgets": {},
     "nuid": "d147e810-96e4-490b-998c-83400ce78a90",
     "showTitle": false,
     "tableResultSettingsMap": {},
     "title": ""
    },
    "colab": {
     "base_uri": "https://localhost:8080/"
    },
    "executionInfo": {
     "elapsed": 13,
     "status": "ok",
     "timestamp": 1750671481382,
     "user": {
      "displayName": "Naval Yemul",
      "userId": "08543598437878870420"
     },
     "user_tz": -330
    },
    "id": "tGtmPyEPGqG9",
    "outputId": "b0e88028-8b1b-400c-ff22-53065e6cf381"
   },
   "outputs": [],
   "source": [
    "a=\"Databricks\"\n",
    "print(a)\n",
    "print(type(a))\n",
    "print(id(a))"
   ]
  },
  {
   "cell_type": "code",
   "execution_count": 0,
   "metadata": {
    "application/vnd.databricks.v1+cell": {
     "cellMetadata": {},
     "inputWidgets": {},
     "nuid": "85fb483e-ec3a-4a5e-9c0d-55b72ae0ba01",
     "showTitle": false,
     "tableResultSettingsMap": {},
     "title": ""
    },
    "colab": {
     "base_uri": "https://localhost:8080/"
    },
    "executionInfo": {
     "elapsed": 7,
     "status": "ok",
     "timestamp": 1750671502756,
     "user": {
      "displayName": "Naval Yemul",
      "userId": "08543598437878870420"
     },
     "user_tz": -330
    },
    "id": "ukhtTkHGJyil",
    "outputId": "148dc4c7-d913-45ee-ba7d-142057d35e57"
   },
   "outputs": [],
   "source": [
    "print(a)"
   ]
  },
  {
   "cell_type": "code",
   "execution_count": 0,
   "metadata": {
    "application/vnd.databricks.v1+cell": {
     "cellMetadata": {},
     "inputWidgets": {},
     "nuid": "19e5654a-30ac-453a-abf5-3d2c9c879e8c",
     "showTitle": false,
     "tableResultSettingsMap": {},
     "title": ""
    },
    "colab": {
     "base_uri": "https://localhost:8080/"
    },
    "executionInfo": {
     "elapsed": 11,
     "status": "ok",
     "timestamp": 1750671188699,
     "user": {
      "displayName": "Naval Yemul",
      "userId": "08543598437878870420"
     },
     "user_tz": -330
    },
    "id": "ZNdAmjSLGxda",
    "outputId": "17340fd9-c605-4619-b267-05f39a742913"
   },
   "outputs": [],
   "source": [
    "b=20\n",
    "print(b)\n",
    "print(type(b))\n",
    "print(id(b))"
   ]
  },
  {
   "cell_type": "code",
   "execution_count": 0,
   "metadata": {
    "application/vnd.databricks.v1+cell": {
     "cellMetadata": {},
     "inputWidgets": {},
     "nuid": "465e1c0f-4a4a-442a-8ec7-7e6be13dc116",
     "showTitle": false,
     "tableResultSettingsMap": {},
     "title": ""
    },
    "id": "3wqA1e2VG31h"
   },
   "outputs": [],
   "source": [
    "a=10\n",
    "a=True\n",
    "print(type(a))"
   ]
  },
  {
   "cell_type": "code",
   "execution_count": 0,
   "metadata": {
    "application/vnd.databricks.v1+cell": {
     "cellMetadata": {},
     "inputWidgets": {},
     "nuid": "b6e90618-4a2a-4752-90b6-81bb59dc8734",
     "showTitle": false,
     "tableResultSettingsMap": {},
     "title": ""
    },
    "id": "VRJj5KHeJ_H2"
   },
   "outputs": [],
   "source": [
    "s=\"Databricks is data and AI company\""
   ]
  },
  {
   "cell_type": "code",
   "execution_count": 0,
   "metadata": {
    "application/vnd.databricks.v1+cell": {
     "cellMetadata": {},
     "inputWidgets": {},
     "nuid": "ddd4cc06-2d31-47db-b01c-d87b9b109b5c",
     "showTitle": false,
     "tableResultSettingsMap": {},
     "title": ""
    },
    "colab": {
     "base_uri": "https://localhost:8080/"
    },
    "executionInfo": {
     "elapsed": 18,
     "status": "ok",
     "timestamp": 1750671984758,
     "user": {
      "displayName": "Naval Yemul",
      "userId": "08543598437878870420"
     },
     "user_tz": -330
    },
    "id": "cF8bXYr8KHp7",
    "outputId": "28c542ea-92f0-4457-82b4-71050e12cc15"
   },
   "outputs": [],
   "source": [
    "# indexing and slicing\n",
    "print(s[-1])\n",
    "print(s[1])\n",
    "print(s[5:10])\n",
    "print(s[11:])\n",
    "print(s[:10])"
   ]
  },
  {
   "cell_type": "code",
   "execution_count": 0,
   "metadata": {
    "application/vnd.databricks.v1+cell": {
     "cellMetadata": {},
     "inputWidgets": {},
     "nuid": "1494657c-141b-4609-a345-43b7f9279346",
     "showTitle": false,
     "tableResultSettingsMap": {},
     "title": ""
    },
    "colab": {
     "base_uri": "https://localhost:8080/",
     "height": 35
    },
    "executionInfo": {
     "elapsed": 12,
     "status": "ok",
     "timestamp": 1750672037060,
     "user": {
      "displayName": "Naval Yemul",
      "userId": "08543598437878870420"
     },
     "user_tz": -330
    },
    "id": "okmoGG0ZLCkM",
    "outputId": "27661ee0-edab-4445-a87d-8d187ad4beb7"
   },
   "outputs": [],
   "source": [
    "s[:10]"
   ]
  },
  {
   "cell_type": "code",
   "execution_count": 0,
   "metadata": {
    "application/vnd.databricks.v1+cell": {
     "cellMetadata": {},
     "inputWidgets": {},
     "nuid": "ce448069-9aa4-4ba4-bcee-16ae0a2c7ce3",
     "showTitle": false,
     "tableResultSettingsMap": {},
     "title": ""
    },
    "id": "iK6TIhnNME9z"
   },
   "outputs": [],
   "source": [
    "10+10\n",
    "10*3"
   ]
  },
  {
   "cell_type": "code",
   "execution_count": 0,
   "metadata": {
    "application/vnd.databricks.v1+cell": {
     "cellMetadata": {},
     "inputWidgets": {},
     "nuid": "387a830a-16ef-4bf5-878c-0c8284c1560e",
     "showTitle": false,
     "tableResultSettingsMap": {},
     "title": ""
    },
    "id": "JZRmL2OuLun9"
   },
   "outputs": [],
   "source": [
    "# opertors: +, *"
   ]
  },
  {
   "cell_type": "code",
   "execution_count": 0,
   "metadata": {
    "application/vnd.databricks.v1+cell": {
     "cellMetadata": {},
     "inputWidgets": {},
     "nuid": "ceee5202-7de9-4922-9a8b-4ac79c14017a",
     "showTitle": false,
     "tableResultSettingsMap": {},
     "title": ""
    },
    "id": "Ehro3GVfMI5r"
   },
   "outputs": [],
   "source": [
    "s=\"AWS\" + \" \" + \"Databricks\""
   ]
  },
  {
   "cell_type": "code",
   "execution_count": 0,
   "metadata": {
    "application/vnd.databricks.v1+cell": {
     "cellMetadata": {},
     "inputWidgets": {},
     "nuid": "adcbca2d-c719-49f6-ba44-3663294007f4",
     "showTitle": false,
     "tableResultSettingsMap": {},
     "title": ""
    },
    "id": "Y3sxk_ElMZ6t"
   },
   "outputs": [],
   "source": [
    "s=\"AWS\" + \"Databricks\""
   ]
  },
  {
   "cell_type": "code",
   "execution_count": 0,
   "metadata": {
    "application/vnd.databricks.v1+cell": {
     "cellMetadata": {},
     "inputWidgets": {},
     "nuid": "64dcac71-416f-4195-bbf6-7944f642f31f",
     "showTitle": false,
     "tableResultSettingsMap": {},
     "title": ""
    },
    "colab": {
     "base_uri": "https://localhost:8080/"
    },
    "executionInfo": {
     "elapsed": 11,
     "status": "ok",
     "timestamp": 1750672192640,
     "user": {
      "displayName": "Naval Yemul",
      "userId": "08543598437878870420"
     },
     "user_tz": -330
    },
    "id": "0sdboMG4MIwS",
    "outputId": "edfd7c1c-a0ca-4248-8c4c-2148832d8662"
   },
   "outputs": [],
   "source": [
    "print(s)"
   ]
  },
  {
   "cell_type": "code",
   "execution_count": 0,
   "metadata": {
    "application/vnd.databricks.v1+cell": {
     "cellMetadata": {},
     "inputWidgets": {},
     "nuid": "4bf6ed9f-3cc9-4b9e-8538-7ae3949fd7af",
     "showTitle": false,
     "tableResultSettingsMap": {},
     "title": ""
    },
    "colab": {
     "base_uri": "https://localhost:8080/",
     "height": 141
    },
    "executionInfo": {
     "elapsed": 48,
     "status": "error",
     "timestamp": 1750672245974,
     "user": {
      "displayName": "Naval Yemul",
      "userId": "08543598437878870420"
     },
     "user_tz": -330
    },
    "id": "-IH4yIrcMWFX",
    "outputId": "687cb0d2-fe97-4db4-9edd-64f9034b097d"
   },
   "outputs": [],
   "source": [
    "s=\"AWS\" + 10"
   ]
  },
  {
   "cell_type": "code",
   "execution_count": 0,
   "metadata": {
    "application/vnd.databricks.v1+cell": {
     "cellMetadata": {},
     "inputWidgets": {},
     "nuid": "deae376c-13a9-4a68-b296-2abf6e1bae3d",
     "showTitle": false,
     "tableResultSettingsMap": {},
     "title": ""
    },
    "colab": {
     "base_uri": "https://localhost:8080/",
     "height": 141
    },
    "executionInfo": {
     "elapsed": 47,
     "status": "error",
     "timestamp": 1750672317967,
     "user": {
      "displayName": "Naval Yemul",
      "userId": "08543598437878870420"
     },
     "user_tz": -330
    },
    "id": "RrAx6b5LMoN4",
    "outputId": "787564ca-0d34-47ce-c492-2e27f885fc9d"
   },
   "outputs": [],
   "source": [
    "s=\"AWS\" * \"Databricks\""
   ]
  },
  {
   "cell_type": "code",
   "execution_count": 0,
   "metadata": {
    "application/vnd.databricks.v1+cell": {
     "cellMetadata": {},
     "inputWidgets": {},
     "nuid": "7730c70a-7cf3-47f5-9dd5-e0a06eabfdb1",
     "showTitle": false,
     "tableResultSettingsMap": {},
     "title": ""
    },
    "colab": {
     "base_uri": "https://localhost:8080/"
    },
    "executionInfo": {
     "elapsed": 7,
     "status": "ok",
     "timestamp": 1750672353679,
     "user": {
      "displayName": "Naval Yemul",
      "userId": "08543598437878870420"
     },
     "user_tz": -330
    },
    "id": "_yOmy9FaM8qm",
    "outputId": "abebe2c3-02c5-41fe-f7b7-924e9bc30881"
   },
   "outputs": [],
   "source": [
    "s=\"AWS\" * 3\n",
    "print(s)"
   ]
  },
  {
   "cell_type": "code",
   "execution_count": 0,
   "metadata": {
    "application/vnd.databricks.v1+cell": {
     "cellMetadata": {},
     "inputWidgets": {},
     "nuid": "376d21bb-0441-4a57-9cbb-1baa7c0e8a6d",
     "showTitle": false,
     "tableResultSettingsMap": {},
     "title": ""
    },
    "id": "xdLgRpMVNBHW"
   },
   "outputs": [],
   "source": [
    "# + both should str + str (str + str)\n",
    "# * one should str other should be int ( int * str)"
   ]
  },
  {
   "cell_type": "markdown",
   "metadata": {
    "application/vnd.databricks.v1+cell": {
     "cellMetadata": {},
     "inputWidgets": {},
     "nuid": "8709af46-623b-4bf5-b07a-524fd9969c79",
     "showTitle": false,
     "tableResultSettingsMap": {},
     "title": ""
    },
    "id": "UDJu0dyNN1kp"
   },
   "source": [
    "### Type casting"
   ]
  },
  {
   "cell_type": "code",
   "execution_count": 0,
   "metadata": {
    "application/vnd.databricks.v1+cell": {
     "cellMetadata": {},
     "inputWidgets": {},
     "nuid": "2cd065c7-8a25-4ede-b067-5953c7b2555c",
     "showTitle": false,
     "tableResultSettingsMap": {},
     "title": ""
    },
    "colab": {
     "base_uri": "https://localhost:8080/"
    },
    "executionInfo": {
     "elapsed": 51,
     "status": "ok",
     "timestamp": 1750672910134,
     "user": {
      "displayName": "Naval Yemul",
      "userId": "08543598437878870420"
     },
     "user_tz": -330
    },
    "id": "xeb9b3hANSzJ",
    "outputId": "1c568663-11b4-4d70-dda6-c88eb0f03554"
   },
   "outputs": [],
   "source": [
    "print(float(10))\n",
    "print(str(10))\n",
    "print(bool(10))\n",
    "print(bool(0))"
   ]
  },
  {
   "cell_type": "code",
   "execution_count": 0,
   "metadata": {
    "application/vnd.databricks.v1+cell": {
     "cellMetadata": {},
     "inputWidgets": {},
     "nuid": "5bad97db-a0e1-49f8-8619-e8b00dcd1825",
     "showTitle": false,
     "tableResultSettingsMap": {},
     "title": ""
    },
    "colab": {
     "base_uri": "https://localhost:8080/"
    },
    "executionInfo": {
     "elapsed": 10,
     "status": "ok",
     "timestamp": 1750672982469,
     "user": {
      "displayName": "Naval Yemul",
      "userId": "08543598437878870420"
     },
     "user_tz": -330
    },
    "id": "Z6Kbe9AFOrJa",
    "outputId": "a958f039-d57d-4fc0-cd6f-a3a5bcd54faf"
   },
   "outputs": [],
   "source": [
    "print(int(10.1))\n",
    "print(str(10.1))\n",
    "print(bool(10.1))\n",
    "print(bool(0.0))"
   ]
  },
  {
   "cell_type": "code",
   "execution_count": 0,
   "metadata": {
    "application/vnd.databricks.v1+cell": {
     "cellMetadata": {},
     "inputWidgets": {},
     "nuid": "5bebdd71-afa1-433b-a793-f7a78828de0a",
     "showTitle": false,
     "tableResultSettingsMap": {},
     "title": ""
    },
    "colab": {
     "base_uri": "https://localhost:8080/"
    },
    "executionInfo": {
     "elapsed": 5,
     "status": "ok",
     "timestamp": 1750673177805,
     "user": {
      "displayName": "Naval Yemul",
      "userId": "08543598437878870420"
     },
     "user_tz": -330
    },
    "id": "uVQBNkKKO0G0",
    "outputId": "bc172d71-d221-4ca0-fac4-8cfa951a47e9"
   },
   "outputs": [],
   "source": [
    "print(int(\"10\"))\n",
    "#print(int(\"python\")) # Error\n",
    "#print(float(\"python\")) #Error\n",
    "print(bool(\"python\"))\n",
    "print(bool(\"\"))"
   ]
  },
  {
   "cell_type": "markdown",
   "metadata": {
    "application/vnd.databricks.v1+cell": {
     "cellMetadata": {},
     "inputWidgets": {},
     "nuid": "c29fefb4-94cf-4e8c-9f4c-507bf5af695c",
     "showTitle": false,
     "tableResultSettingsMap": {},
     "title": ""
    },
    "id": "xfCyxFzFRRLK"
   },
   "source": [
    "# Data Type Advance\n",
    "\n",
    "1. List\n",
    "2. Tuple\n",
    "3. Set\n",
    "4. Dict\n",
    "5. Range\n",
    "\n"
   ]
  },
  {
   "cell_type": "markdown",
   "metadata": {
    "application/vnd.databricks.v1+cell": {
     "cellMetadata": {},
     "inputWidgets": {},
     "nuid": "0f528109-36d1-4332-9f61-87d3d532445a",
     "showTitle": false,
     "tableResultSettingsMap": {},
     "title": ""
    },
    "id": "e3ZNUdp8SZ_x"
   },
   "source": [
    "# List\n",
    "\n",
    "1. []\n",
    "2. Heterogenous object allowed\n",
    "3. Duplicates are allowed\n",
    "4. Order is presereved\n",
    "5. Indexing and slicing\n",
    "6. Mutable\n",
    "\n"
   ]
  },
  {
   "cell_type": "code",
   "execution_count": 0,
   "metadata": {
    "application/vnd.databricks.v1+cell": {
     "cellMetadata": {},
     "inputWidgets": {},
     "nuid": "36a13df7-c77e-497c-ad6c-8d3f93fb5bc7",
     "showTitle": false,
     "tableResultSettingsMap": {},
     "title": ""
    },
    "id": "JljMAtCJSZxX"
   },
   "outputs": [],
   "source": [
    "l=[10,20,'SQL','AWS','AWS',True, False,99.99,10]"
   ]
  },
  {
   "cell_type": "code",
   "execution_count": 0,
   "metadata": {
    "application/vnd.databricks.v1+cell": {
     "cellMetadata": {},
     "inputWidgets": {},
     "nuid": "eb72aacf-d9b7-462c-a814-6ef949d37bb3",
     "showTitle": false,
     "tableResultSettingsMap": {},
     "title": ""
    },
    "colab": {
     "base_uri": "https://localhost:8080/"
    },
    "executionInfo": {
     "elapsed": 5,
     "status": "ok",
     "timestamp": 1750674109156,
     "user": {
      "displayName": "Naval Yemul",
      "userId": "08543598437878870420"
     },
     "user_tz": -330
    },
    "id": "KRupcM0jTDp9",
    "outputId": "86522cc8-2285-4101-cc89-cf7be765e888"
   },
   "outputs": [],
   "source": [
    "print(l)\n",
    "print(id(l))\n",
    "print(type(l))\n",
    "l.append(55)\n",
    "print(l)\n",
    "print(id(l))"
   ]
  },
  {
   "cell_type": "code",
   "execution_count": 0,
   "metadata": {
    "application/vnd.databricks.v1+cell": {
     "cellMetadata": {},
     "inputWidgets": {},
     "nuid": "a2c62692-85ea-4088-9787-1f8b837333e8",
     "showTitle": false,
     "tableResultSettingsMap": {},
     "title": ""
    },
    "colab": {
     "base_uri": "https://localhost:8080/"
    },
    "executionInfo": {
     "elapsed": 5,
     "status": "ok",
     "timestamp": 1750674182052,
     "user": {
      "displayName": "Naval Yemul",
      "userId": "08543598437878870420"
     },
     "user_tz": -330
    },
    "id": "zFf6F7S5Q0S0",
    "outputId": "b0ed82e9-9521-4650-b953-62db239eaa56"
   },
   "outputs": [],
   "source": [
    "l=[1,2,3,'a','b']\n",
    "print(l)\n",
    "print(id(l))"
   ]
  },
  {
   "cell_type": "code",
   "execution_count": 0,
   "metadata": {
    "application/vnd.databricks.v1+cell": {
     "cellMetadata": {},
     "inputWidgets": {},
     "nuid": "750cbda6-f176-4ef4-b679-1b0d71ae31d1",
     "showTitle": false,
     "tableResultSettingsMap": {},
     "title": ""
    },
    "colab": {
     "base_uri": "https://localhost:8080/"
    },
    "executionInfo": {
     "elapsed": 48,
     "status": "ok",
     "timestamp": 1750674443167,
     "user": {
      "displayName": "Naval Yemul",
      "userId": "08543598437878870420"
     },
     "user_tz": -330
    },
    "id": "cOlWDhR_UA5v",
    "outputId": "03a91f03-16b3-47eb-8e56-2a36d8759008"
   },
   "outputs": [],
   "source": [
    "l[:100]"
   ]
  },
  {
   "cell_type": "code",
   "execution_count": 0,
   "metadata": {
    "application/vnd.databricks.v1+cell": {
     "cellMetadata": {},
     "inputWidgets": {},
     "nuid": "72f02c07-d8d5-464b-9c04-26037824b999",
     "showTitle": false,
     "tableResultSettingsMap": {},
     "title": ""
    },
    "id": "PZ7SYiZjUIMN"
   },
   "outputs": [],
   "source": []
  },
  {
   "cell_type": "markdown",
   "metadata": {
    "application/vnd.databricks.v1+cell": {
     "cellMetadata": {},
     "inputWidgets": {},
     "nuid": "0a50ad45-c435-4840-a8bd-532da83661be",
     "showTitle": false,
     "tableResultSettingsMap": {},
     "title": ""
    },
    "id": "6-Hf3HaaVJzK"
   },
   "source": [
    "# Tuple\n",
    "\n",
    "1.   Excatly same as list except that it is immutable\n",
    "2.   Read only version of list is tuple\n",
    "3. ()\n",
    "\n"
   ]
  },
  {
   "cell_type": "code",
   "execution_count": 0,
   "metadata": {
    "application/vnd.databricks.v1+cell": {
     "cellMetadata": {},
     "inputWidgets": {},
     "nuid": "f3dc4b42-dae7-43ec-ba1f-11277c406c61",
     "showTitle": false,
     "tableResultSettingsMap": {},
     "title": ""
    },
    "id": "0ooNlANAVYb6"
   },
   "outputs": [],
   "source": [
    "t=(10,10,'a',True,'Naval')"
   ]
  },
  {
   "cell_type": "code",
   "execution_count": 0,
   "metadata": {
    "application/vnd.databricks.v1+cell": {
     "cellMetadata": {},
     "inputWidgets": {},
     "nuid": "f5b5acc6-bde9-46e1-863a-9f68438b3060",
     "showTitle": false,
     "tableResultSettingsMap": {},
     "title": ""
    },
    "colab": {
     "base_uri": "https://localhost:8080/",
     "height": 35
    },
    "executionInfo": {
     "elapsed": 55,
     "status": "ok",
     "timestamp": 1750674590093,
     "user": {
      "displayName": "Naval Yemul",
      "userId": "08543598437878870420"
     },
     "user_tz": -330
    },
    "id": "RXpuYp91Vg1l",
    "outputId": "46211f87-5add-40e8-bb75-c90a50c4f35b"
   },
   "outputs": [],
   "source": [
    "t[-1]"
   ]
  },
  {
   "cell_type": "code",
   "execution_count": 0,
   "metadata": {
    "application/vnd.databricks.v1+cell": {
     "cellMetadata": {},
     "inputWidgets": {},
     "nuid": "3e6d6c5c-8ead-4250-b7ea-843b98bc7120",
     "showTitle": false,
     "tableResultSettingsMap": {},
     "title": ""
    },
    "colab": {
     "base_uri": "https://localhost:8080/",
     "height": 141
    },
    "executionInfo": {
     "elapsed": 13,
     "status": "error",
     "timestamp": 1750674600022,
     "user": {
      "displayName": "Naval Yemul",
      "userId": "08543598437878870420"
     },
     "user_tz": -330
    },
    "id": "9GBMsi5EVizZ",
    "outputId": "7460ab68-cd25-41e8-b38f-4833e6383f5a"
   },
   "outputs": [],
   "source": [
    "t.append(99)"
   ]
  },
  {
   "cell_type": "markdown",
   "metadata": {
    "application/vnd.databricks.v1+cell": {
     "cellMetadata": {},
     "inputWidgets": {},
     "nuid": "4057840f-796e-490f-9d66-b9b542a1a8ed",
     "showTitle": false,
     "tableResultSettingsMap": {},
     "title": ""
    },
    "id": "RtqdkmkkWDHY"
   },
   "source": [
    " #set\n",
    "\n",
    "\n",
    "\n",
    "1.   {}\n",
    "2.   Hetergenous objects are allowed\n",
    "3. Duplicates are not allowed\n",
    "4. Order is NOT preserved\n",
    "5. Indexing and slicing NOT support\n",
    "6. Mutable\n",
    "\n"
   ]
  },
  {
   "cell_type": "code",
   "execution_count": 0,
   "metadata": {
    "application/vnd.databricks.v1+cell": {
     "cellMetadata": {},
     "inputWidgets": {},
     "nuid": "83a468c6-8c8d-4628-b43d-ad05a36d2500",
     "showTitle": false,
     "tableResultSettingsMap": {},
     "title": ""
    },
    "colab": {
     "base_uri": "https://localhost:8080/"
    },
    "executionInfo": {
     "elapsed": 7,
     "status": "ok",
     "timestamp": 1750675169139,
     "user": {
      "displayName": "Naval Yemul",
      "userId": "08543598437878870420"
     },
     "user_tz": -330
    },
    "id": "kn3weyfMVm8N",
    "outputId": "b283e521-9dda-418a-e7e7-a15c1b5a2aaa"
   },
   "outputs": [],
   "source": [
    "s={10,10,20,30,30,'A',True,'A','Python',20}\n",
    "print(s)"
   ]
  },
  {
   "cell_type": "code",
   "execution_count": 0,
   "metadata": {
    "application/vnd.databricks.v1+cell": {
     "cellMetadata": {},
     "inputWidgets": {},
     "nuid": "19bd4041-c8ed-4668-ad8f-4ec240a4a193",
     "showTitle": false,
     "tableResultSettingsMap": {},
     "title": ""
    },
    "colab": {
     "base_uri": "https://localhost:8080/",
     "height": 141
    },
    "executionInfo": {
     "elapsed": 15,
     "status": "error",
     "timestamp": 1750675180226,
     "user": {
      "displayName": "Naval Yemul",
      "userId": "08543598437878870420"
     },
     "user_tz": -330
    },
    "id": "8AAc7UaVXm54",
    "outputId": "29c7424e-34c5-43af-b341-87853197d251"
   },
   "outputs": [],
   "source": [
    "s[1]"
   ]
  },
  {
   "cell_type": "code",
   "execution_count": 0,
   "metadata": {
    "application/vnd.databricks.v1+cell": {
     "cellMetadata": {},
     "inputWidgets": {},
     "nuid": "b7e5bc59-f84a-407f-9c41-336dc4a4c1d1",
     "showTitle": false,
     "tableResultSettingsMap": {},
     "title": ""
    },
    "id": "HuaG8H5wX0lz"
   },
   "outputs": [],
   "source": [
    "s.add(99)"
   ]
  },
  {
   "cell_type": "code",
   "execution_count": 0,
   "metadata": {
    "application/vnd.databricks.v1+cell": {
     "cellMetadata": {},
     "inputWidgets": {},
     "nuid": "4c0c4c4d-5381-4cf4-87b0-67994153c1bb",
     "showTitle": false,
     "tableResultSettingsMap": {},
     "title": ""
    },
    "colab": {
     "base_uri": "https://localhost:8080/"
    },
    "executionInfo": {
     "elapsed": 9,
     "status": "ok",
     "timestamp": 1750675214331,
     "user": {
      "displayName": "Naval Yemul",
      "userId": "08543598437878870420"
     },
     "user_tz": -330
    },
    "id": "cw1BUFJ3X7Mn",
    "outputId": "315dbe51-f71e-4bc0-a670-6edbeb1f02a0"
   },
   "outputs": [],
   "source": [
    "print(s)"
   ]
  },
  {
   "cell_type": "markdown",
   "metadata": {
    "application/vnd.databricks.v1+cell": {
     "cellMetadata": {},
     "inputWidgets": {},
     "nuid": "b43488a6-802d-4878-86fe-645022157711",
     "showTitle": false,
     "tableResultSettingsMap": {},
     "title": ""
    },
    "id": "YYDkCYNZYw0o"
   },
   "source": [
    "# Dict\n",
    "\n",
    "\n",
    "1.   {k:v}\n",
    "2.   Duplicate keys are NOT allowed\n",
    "3. Duplicate values are allowed\n",
    "4. Heterogenous are allowed\n",
    "5. Mutable\n",
    "\n",
    "\n"
   ]
  },
  {
   "cell_type": "code",
   "execution_count": 0,
   "metadata": {
    "application/vnd.databricks.v1+cell": {
     "cellMetadata": {},
     "inputWidgets": {},
     "nuid": "9ef59121-73e2-4548-894f-e2cd1f8db787",
     "showTitle": false,
     "tableResultSettingsMap": {},
     "title": ""
    },
    "id": "_fHAdVtdX85Q"
   },
   "outputs": [],
   "source": [
    "d={1:'Naval',2:\"Ramakrishna\",3:\"Jaya\",4:\"Praveen\",5:\"Praveen\",6:True,7:100.0,\"a\":\"b\",\"c\":[10,20]}"
   ]
  },
  {
   "cell_type": "code",
   "execution_count": 0,
   "metadata": {
    "application/vnd.databricks.v1+cell": {
     "cellMetadata": {},
     "inputWidgets": {},
     "nuid": "d1ec9675-f2a4-4237-9541-1325d102a3bd",
     "showTitle": false,
     "tableResultSettingsMap": {},
     "title": ""
    },
    "colab": {
     "base_uri": "https://localhost:8080/"
    },
    "executionInfo": {
     "elapsed": 15,
     "status": "ok",
     "timestamp": 1750675985223,
     "user": {
      "displayName": "Naval Yemul",
      "userId": "08543598437878870420"
     },
     "user_tz": -330
    },
    "id": "rpDRjy87ZUtY",
    "outputId": "061dd06e-3f53-447d-d8bc-93d18ea75a20"
   },
   "outputs": [],
   "source": [
    "print(d)"
   ]
  },
  {
   "cell_type": "code",
   "execution_count": 0,
   "metadata": {
    "application/vnd.databricks.v1+cell": {
     "cellMetadata": {},
     "inputWidgets": {},
     "nuid": "f016d9d8-4812-4d22-a791-a9e251fc87f8",
     "showTitle": false,
     "tableResultSettingsMap": {},
     "title": ""
    },
    "id": "ZMKE0Z3UZVSM"
   },
   "outputs": [],
   "source": [
    "d[5]='Mohan'"
   ]
  },
  {
   "cell_type": "code",
   "execution_count": 0,
   "metadata": {
    "application/vnd.databricks.v1+cell": {
     "cellMetadata": {},
     "inputWidgets": {},
     "nuid": "ab4f983d-0a74-4100-9410-16591e339722",
     "showTitle": false,
     "tableResultSettingsMap": {},
     "title": ""
    },
    "colab": {
     "base_uri": "https://localhost:8080/"
    },
    "executionInfo": {
     "elapsed": 17,
     "status": "ok",
     "timestamp": 1750675628749,
     "user": {
      "displayName": "Naval Yemul",
      "userId": "08543598437878870420"
     },
     "user_tz": -330
    },
    "id": "K5PtA51zZgOC",
    "outputId": "4fbabaac-32a6-490a-d555-2fe8f204a30f"
   },
   "outputs": [],
   "source": [
    "print(d)"
   ]
  },
  {
   "cell_type": "code",
   "execution_count": 0,
   "metadata": {
    "application/vnd.databricks.v1+cell": {
     "cellMetadata": {},
     "inputWidgets": {},
     "nuid": "cd13f88c-0e14-42e8-b06a-9be5a67b77de",
     "showTitle": false,
     "tableResultSettingsMap": {},
     "title": ""
    },
    "colab": {
     "base_uri": "https://localhost:8080/"
    },
    "executionInfo": {
     "elapsed": 9,
     "status": "ok",
     "timestamp": 1750676011923,
     "user": {
      "displayName": "Naval Yemul",
      "userId": "08543598437878870420"
     },
     "user_tz": -330
    },
    "id": "g5kjo0k5ZiFN",
    "outputId": "943c04df-710e-4dd8-f9d2-b42dc1eaa411"
   },
   "outputs": [],
   "source": [
    "print(d[\"c\"][1])"
   ]
  },
  {
   "cell_type": "code",
   "execution_count": 0,
   "metadata": {
    "application/vnd.databricks.v1+cell": {
     "cellMetadata": {},
     "inputWidgets": {},
     "nuid": "2b4c3a6f-92fa-4322-a4a9-49a282c6756a",
     "showTitle": false,
     "tableResultSettingsMap": {},
     "title": ""
    },
    "id": "8U2bDN-eaq1-"
   },
   "outputs": [],
   "source": [
    "Range: sequence of Number"
   ]
  },
  {
   "cell_type": "code",
   "execution_count": 0,
   "metadata": {
    "application/vnd.databricks.v1+cell": {
     "cellMetadata": {},
     "inputWidgets": {},
     "nuid": "438774fc-80f9-45f0-a07a-7f303663040a",
     "showTitle": false,
     "tableResultSettingsMap": {},
     "title": ""
    },
    "colab": {
     "base_uri": "https://localhost:8080/"
    },
    "executionInfo": {
     "elapsed": 7,
     "status": "ok",
     "timestamp": 1750676971024,
     "user": {
      "displayName": "Naval Yemul",
      "userId": "08543598437878870420"
     },
     "user_tz": -330
    },
    "id": "meg-sjx8emR1",
    "outputId": "f3faa148-5cf2-4425-8385-1f73ff09d8d7"
   },
   "outputs": [],
   "source": [
    "range(10)"
   ]
  },
  {
   "cell_type": "code",
   "execution_count": 0,
   "metadata": {
    "application/vnd.databricks.v1+cell": {
     "cellMetadata": {},
     "inputWidgets": {},
     "nuid": "ea213d57-6966-495c-a670-656819a2dd9d",
     "showTitle": false,
     "tableResultSettingsMap": {},
     "title": ""
    },
    "colab": {
     "base_uri": "https://localhost:8080/"
    },
    "executionInfo": {
     "elapsed": 6,
     "status": "ok",
     "timestamp": 1750677131737,
     "user": {
      "displayName": "Naval Yemul",
      "userId": "08543598437878870420"
     },
     "user_tz": -330
    },
    "id": "MpPzd_xOepzQ",
    "outputId": "9e59d26f-3106-45b6-c92f-7042a862df14"
   },
   "outputs": [],
   "source": [
    "for i in range(10):\n",
    "  print(i)"
   ]
  },
  {
   "cell_type": "code",
   "execution_count": 0,
   "metadata": {
    "application/vnd.databricks.v1+cell": {
     "cellMetadata": {},
     "inputWidgets": {},
     "nuid": "a3de850f-3ce7-4991-a03b-0769ef18f69e",
     "showTitle": false,
     "tableResultSettingsMap": {},
     "title": ""
    },
    "colab": {
     "base_uri": "https://localhost:8080/"
    },
    "executionInfo": {
     "elapsed": 5,
     "status": "ok",
     "timestamp": 1750677191867,
     "user": {
      "displayName": "Naval Yemul",
      "userId": "08543598437878870420"
     },
     "user_tz": -330
    },
    "id": "Sm-A5wAPfRCW",
    "outputId": "74104dc9-c567-46ea-d9f3-1f3c961859da"
   },
   "outputs": [],
   "source": [
    "for i in range(5,10):\n",
    "  print(i)"
   ]
  },
  {
   "cell_type": "code",
   "execution_count": 0,
   "metadata": {
    "application/vnd.databricks.v1+cell": {
     "cellMetadata": {},
     "inputWidgets": {},
     "nuid": "e66fb55e-959b-4e3b-a9df-1a4e7c56ea48",
     "showTitle": false,
     "tableResultSettingsMap": {},
     "title": ""
    },
    "colab": {
     "base_uri": "https://localhost:8080/"
    },
    "executionInfo": {
     "elapsed": 8,
     "status": "ok",
     "timestamp": 1750677341227,
     "user": {
      "displayName": "Naval Yemul",
      "userId": "08543598437878870420"
     },
     "user_tz": -330
    },
    "id": "7h1S9f1NffuG",
    "outputId": "d4af08cf-8da6-4dff-cb52-d366afa7dca7"
   },
   "outputs": [],
   "source": [
    "for i in range(3,30,3):\n",
    "  print(i)"
   ]
  },
  {
   "cell_type": "code",
   "execution_count": 0,
   "metadata": {
    "application/vnd.databricks.v1+cell": {
     "cellMetadata": {},
     "inputWidgets": {},
     "nuid": "f34829c8-b0d4-4111-a8e9-ad918f3504f2",
     "showTitle": false,
     "tableResultSettingsMap": {},
     "title": ""
    },
    "colab": {
     "base_uri": "https://localhost:8080/"
    },
    "executionInfo": {
     "elapsed": 20,
     "status": "ok",
     "timestamp": 1750677385791,
     "user": {
      "displayName": "Naval Yemul",
      "userId": "08543598437878870420"
     },
     "user_tz": -330
    },
    "id": "kWrLMli6fvb4",
    "outputId": "27dfd6a4-b1e4-4a87-ca30-dcdd457a9d3a"
   },
   "outputs": [],
   "source": [
    "for i in range(50,1,-5):\n",
    "  print(i)"
   ]
  },
  {
   "cell_type": "code",
   "execution_count": 0,
   "metadata": {
    "application/vnd.databricks.v1+cell": {
     "cellMetadata": {},
     "inputWidgets": {},
     "nuid": "a2f7fa1c-c050-4878-978b-2b9eafc4a2de",
     "showTitle": false,
     "tableResultSettingsMap": {},
     "title": ""
    },
    "colab": {
     "base_uri": "https://localhost:8080/",
     "height": 158
    },
    "executionInfo": {
     "elapsed": 11,
     "status": "error",
     "timestamp": 1750677463506,
     "user": {
      "displayName": "Naval Yemul",
      "userId": "08543598437878870420"
     },
     "user_tz": -330
    },
    "id": "RAxAn_e2gPDb",
    "outputId": "f58e1089-16fb-47fc-8998-165f12e757c5"
   },
   "outputs": [],
   "source": [
    "for i in range(0.3,1.5,0.3):\n",
    "  print(i)"
   ]
  }
 ],
 "metadata": {
  "application/vnd.databricks.v1+notebook": {
   "computePreferences": null,
   "dashboards": [],
   "environmentMetadata": null,
   "inputWidgetPreferences": null,
   "language": "python",
   "notebookMetadata": {},
   "notebookName": "Day_1_Naval_Yemul",
   "widgets": {}
  },
  "colab": {
   "provenance": [
    {
     "file_id": "19aAARYkt_sg58qSspL3bVEJ3yyuanvym",
     "timestamp": 1750682083036
    }
   ]
  },
  "kernelspec": {
   "display_name": "Python 3",
   "name": "python3"
  },
  "language_info": {
   "name": "python"
  }
 },
 "nbformat": 4,
 "nbformat_minor": 0
}
